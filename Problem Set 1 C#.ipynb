{
 "cells": [
  {
   "cell_type": "markdown",
   "id": "1c317e2a",
   "metadata": {},
   "source": [
    "# Question 1 C#\n",
    "What data type is each of the following?\n",
    "5\n",
    "5.0\n",
    "5 > 1\n",
    "'5'\n",
    "5 * 2\n",
    "'5' * 2\n",
    "'5' + '2'\n",
    "5 / 2\n",
    "5 % 2\n",
    "{5, 2, 1}\n",
    "5 == 3\n",
    "Pi (the number)"
   ]
  },
  {
   "cell_type": "code",
   "execution_count": 29,
   "id": "a19b73bd",
   "metadata": {},
   "outputs": [
    {
     "name": "stdout",
     "output_type": "stream",
     "text": [
      "System.Int32\n",
      "System.Double\n",
      "System.Boolean\n",
      "System.Char\n",
      "System.Int32\n",
      "System.Int32\n",
      "System.Int32\n",
      "System.Int32\n",
      "System.Int32\n",
      "System.Int32\n",
      "System.Int32\n",
      "System.Int32\n",
      "System.Boolean\n",
      "System.Double\n"
     ]
    }
   ],
   "source": [
    "Console.WriteLine(5.GetType());\n",
    "Console.WriteLine(5.0.GetType());\n",
    "Console.WriteLine((5>1).GetType());\n",
    "Console.WriteLine('5'.GetType());\n",
    "Console.WriteLine((5*2).GetType());\n",
    "Console.WriteLine(('5'*2).GetType());\n",
    "Console.WriteLine(('5'+'2').GetType());\n",
    "Console.WriteLine((5/2).GetType());\n",
    "Console.WriteLine((5%2).GetType());\n",
    "//{5,2,1} is an object and we will find data type of each object in it\n",
    "object[] values = {5,2,1};\n",
    "foreach (var value in values) {\n",
    "   Console.WriteLine(value.GetType());\n",
    "}\n",
    "Console.WriteLine((5==3).GetType());\n",
    "Console.WriteLine((Math.PI).GetType());\n",
    "\n",
    "//Reference\n",
    "//https://www.codegrepper.com/code-examples/csharp/check+type+of+variable+c%23"
   ]
  },
  {
   "cell_type": "markdown",
   "id": "241f1fbe",
   "metadata": {},
   "source": [
    "# Question 2 C#\n",
    "Write (and evaluate) C# expressions that answer these questions:\n",
    "a. How many letters are there in 'Supercalifragilisticexpialidocious'?\n",
    "b. Does 'Supercalifragilisticexpialidocious' contain 'ice' as a substring?\n",
    "c. Which of the following words is the longest:\n",
    "Supercalifragilisticexpialidocious, Honorificabilitudinitatibus, or\n",
    "Bababadalgharaghtakamminarronnkonn?\n",
    "d. Which composer comes first in the dictionary: 'Berlioz', 'Borodin', 'Brian',\n",
    "'Bartok', 'Bellini', 'Buxtehude', 'Bernstein'. Which one comes last?"
   ]
  },
  {
   "cell_type": "code",
   "execution_count": 58,
   "id": "d30c4806",
   "metadata": {},
   "outputs": [
    {
     "name": "stdout",
     "output_type": "stream",
     "text": [
      "The name Supercalifragilisticexpialidocious contains 34 letters.\n",
      "Supercalifragilisticexpialidocious Contains substring --> ice True or False :- True\n",
      "Supercalifragilisticexpialidocious is Longest with 34 letters\n",
      "Bababadalgharaghtakamminarronnkonn is Longest with 34 letters\n",
      "First Composer in Dictionary is Bartok\n",
      "Last Composer in Dictionary is Buxtehude\n"
     ]
    }
   ],
   "source": [
    "//a\n",
    "Console.WriteLine(\"The name Supercalifragilisticexpialidocious contains \" + \"Supercalifragilisticexpialidocious\".Length + \" letters.\");\n",
    "//b\n",
    "Console.WriteLine(\"Supercalifragilisticexpialidocious Contains substring --> ice True or False :- \"+ \"Supercalifragilisticexpialidocious\".Contains(\"ice\") );\n",
    "//c\n",
    "if(\"Supercalifragilisticexpialidocious\".Length>=\"Honorificabilitudinitatibus\".Length && \"Supercalifragilisticexpialidocious\".Length>=\"Bababadalgharaghtakamminarronnkonn\".Length){\n",
    "    Console.WriteLine(\"Supercalifragilisticexpialidocious is Longest with \"+ \"Supercalifragilisticexpialidocious\".Length + \" letters\");\n",
    "}\n",
    "if(\"Honorificabilitudinitatibus\".Length>=\"Supercalifragilisticexpialidocious\".Length && \"Honorificabilitudinitatibus\".Length>=\"Bababadalgharaghtakamminarronnkonn\".Length){\n",
    "    Console.WriteLine(\"Honorificabilitudinitatibus is Longest with \"+ \"Honorificabilitudinitatibus\".Length + \" letters\");\n",
    "}\n",
    "if(\"Bababadalgharaghtakamminarronnkonn\".Length>=\"Supercalifragilisticexpialidocious\".Length && \"Bababadalgharaghtakamminarronnkonn\".Length>=\"Honorificabilitudinitatibus\".Length){\n",
    "    Console.WriteLine(\"Bababadalgharaghtakamminarronnkonn is Longest with \" +\"Bababadalgharaghtakamminarronnkonn\".Length + \" letters\");\n",
    "}\n",
    "//d\n",
    "Dictionary<int, string> sample = new Dictionary<int, string>\n",
    "{\n",
    "   { 1, \"Berlioz\" },\n",
    "   { 2, \"Borodin\" },\n",
    "   { 3, \"Brian\" },\n",
    "   { 4, \"Bartok\" },\n",
    "   { 5, \"Bellini\" },\n",
    "   { 6, \"Buxtehude\" },\n",
    "   { 7, \"Bernstein\" }\n",
    "};\n",
    "var orderedList = sample.OrderBy(x => x.Value).ToList();\n",
    "/*\n",
    "foreach (KeyValuePair<int, string> kv in orderedList)\n",
    "{\n",
    "                    Console.WriteLine(kv.Key + \" \" + kv.Value);\n",
    "}\n",
    "*/\n",
    "Console.Write(\"First Composer in Dictionary is \");\n",
    "Console.WriteLine(orderedList.ElementAt(0).Value);\n",
    "Console.Write(\"Last Composer in Dictionary is \");\n",
    "Console.WriteLine(orderedList.ElementAt((orderedList.Count)-1).Value);\n",
    "//https://stackoverflow.com/questions/5333571/how-to-sort-a-list-of-objects-by-dictionary-value\n",
    "//https://www.tutorialsteacher.com/csharp/csharp-dictionary"
   ]
  },
  {
   "cell_type": "markdown",
   "id": "9b967428",
   "metadata": {},
   "source": [
    "# Question 3 C#\n",
    "Implement function triangleArea(a,b,c) that takes as input the lengths of the 3\n",
    "sides of a triangle and returns the area of the triangle. By Heron's formula, the area\n",
    "of a triangle with side lengths a, b, and c iss(s - a)(s - b)(s - c) , wheres = (a + b + c) /2."
   ]
  },
  {
   "cell_type": "code",
   "execution_count": 62,
   "id": "fd1a007a",
   "metadata": {},
   "outputs": [
    {
     "name": "stdout",
     "output_type": "stream",
     "text": [
      "Area of Triangle is 1.7320508075688772\r\n"
     ]
    }
   ],
   "source": [
    "public double triangleArea(double a, double b, double c)\n",
    "{\n",
    "    double s = (a+b+c)/2;\n",
    "    double num = (s*(s-a)*(s-b)*(s-c));\n",
    "    return Math.Sqrt(num);\n",
    "}\n",
    "\n",
    "double area = triangleArea(2,2,2);\n",
    "Console.WriteLine(\"Area of Triangle is \" + area);       "
   ]
  },
  {
   "cell_type": "markdown",
   "id": "166b4272",
   "metadata": {},
   "source": [
    "# Question 4 C#\n",
    "Write a program in C# Sharp to separate odd and even integers in separate arrays.\n",
    "Go to the editor\n",
    "Test Data :\n",
    "Input the number of elements to be stored in the array :5\n",
    "Input 5 elements in the array :\n",
    "element - 0 : 25\n",
    "element - 1 : 47\n",
    "element - 2 : 42\n",
    "element - 3 : 56\n",
    "element - 4 : 32\n",
    "Expected Output:\n",
    "The Even elements are:\n",
    "42 56 32\n",
    "The Odd elements are :\n",
    "25 47"
   ]
  },
  {
   "cell_type": "code",
   "execution_count": 76,
   "id": "d7093c8f",
   "metadata": {},
   "outputs": [
    {
     "name": "stdout",
     "output_type": "stream",
     "text": [
      "The Even elements are:\n",
      "42 56 32 \n",
      "The Odd elements are :\n",
      "25 47 "
     ]
    }
   ],
   "source": [
    "int[] arr = new int[5];    \n",
    "arr[0]=25;\n",
    "arr[1]=47;\n",
    "arr[2]=42;\n",
    "arr[3]=56;\n",
    "arr[4]=32;\n",
    "Console.WriteLine(\"The Even elements are:\");\n",
    "for (int i = 0; i < arr.Length; i++)\n",
    "{\n",
    "    if(arr[i]%2==0){\n",
    "        Console.Write(arr[i]+ \" \");\n",
    "    }\n",
    "}\n",
    "Console.WriteLine();\n",
    "Console.WriteLine(\"The Odd elements are :\");\n",
    "for (int i = 0; i < arr.Length; i++)\n",
    "{\n",
    "    if(arr[i]%2!=0){\n",
    "        Console.Write(arr[i]+ \" \");\n",
    "    }\n",
    "}\n",
    "    "
   ]
  },
  {
   "cell_type": "markdown",
   "id": "60237f04",
   "metadata": {},
   "source": [
    "# Question 5 C#\n",
    "a. Write a function inside(x,y,x1,y1,x2,y2) that returns True or False\n",
    "depending on whether the point (x,y) lies in the rectangle with lower left\n",
    "corner (x1,y1) and upper right corner (x2,y2).\n",
    "b. Use function inside() from part a. to write an expression that tests whether\n",
    "the point (1,1) lies in both of the following rectangles: one with lower left\n",
    "corner (0.3, 0.5) and upper right corner (1.1, 0.7) and the other with lower\n",
    "left corner (0.5, 0.2) and upper right corner (1.1, 2)."
   ]
  },
  {
   "cell_type": "code",
   "execution_count": 87,
   "id": "12a9d448",
   "metadata": {},
   "outputs": [
    {
     "name": "stdout",
     "output_type": "stream",
     "text": [
      "True\n",
      "False\n",
      "Point (1,1) lies in rectangle with lower left point (0.5,0.2) and upper right point (1.1,2)\n"
     ]
    }
   ],
   "source": [
    "//a\n",
    "public bool inside(double x, double y, double x1, double y1, double x2, double y2)\n",
    "{\n",
    "    if(( (x1<=x) && (x<=x2))&&( (y<=y2) && (y>=y1))){\n",
    "        return true;\n",
    "    }\n",
    "    else{\n",
    "        return false;\n",
    "    }\n",
    "    \n",
    "}\n",
    "\n",
    "bool result1 = inside(1,1,0,0,2,3);\n",
    "if(result1){\n",
    "    Console.WriteLine(\"True\"); \n",
    "}\n",
    "else{\n",
    "    Console.WriteLine(\"False\"); \n",
    "}\n",
    "bool result2 = inside(-1,-1,0,0,2,3);\n",
    "if(result2){\n",
    "    Console.WriteLine(\"True\"); \n",
    "}\n",
    "else{\n",
    "    Console.WriteLine(\"False\"); \n",
    "}\n",
    "//b\n",
    "bool result3 = inside(1,1,0.3,0.5,1.1,0.7);\n",
    "bool result4 = inside(1,1,0.5,0.2,1.1,2);\n",
    "\n",
    "if(result3 && result4){\n",
    "    Console.WriteLine(\"Point (1,1) lies in both rectangles\"); \n",
    "}else if(result3){\n",
    "    Console.WriteLine(\"Point (1,1) lies in rectangle with lower left point (0.3,0.5) and upper right point (1.1,0.7)\"); \n",
    "}else if(result4){\n",
    "    Console.WriteLine(\"Point (1,1) lies in rectangle with lower left point (0.5,0.2) and upper right point (1.1,2)\");  \n",
    "}else{\n",
    "    Console.WriteLine(\"Point doesn't lie in any rectangle\"); \n",
    "}"
   ]
  },
  {
   "cell_type": "code",
   "execution_count": null,
   "id": "b1751bc6",
   "metadata": {},
   "outputs": [],
   "source": []
  },
  {
   "cell_type": "code",
   "execution_count": null,
   "id": "b7b47e11",
   "metadata": {},
   "outputs": [],
   "source": []
  }
 ],
 "metadata": {
  "kernelspec": {
   "display_name": ".NET (C#)",
   "language": "C#",
   "name": ".net-csharp"
  },
  "language_info": {
   "file_extension": ".cs",
   "mimetype": "text/x-csharp",
   "name": "C#",
   "pygments_lexer": "csharp",
   "version": "8.0"
  }
 },
 "nbformat": 4,
 "nbformat_minor": 5
}
